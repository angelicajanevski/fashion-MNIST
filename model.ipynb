{
 "cells": [
  {
   "cell_type": "code",
   "execution_count": null,
   "metadata": {
    "colab": {
     "base_uri": "https://localhost:8080/",
     "height": 34
    },
    "colab_type": "code",
    "id": "O3hQH-W9R2-L",
    "outputId": "686542af-5a3e-4011-e0e0-729540e84ae9"
   },
   "outputs": [],
   "source": [
    "### install packages\n",
    "import os\n",
    "\n",
    "import numpy as np\n",
    "import pandas as pd\n",
    "\n",
    "from sklearn.model_selection import train_test_split\n",
    "from sklearn.model_selection import StratifiedKFold\n",
    "\n",
    "from tensorflow.keras.models import Sequential\n",
    "from tensorflow.keras.layers import Conv2D, Flatten, Dense, MaxPooling2D, Dropout, BatchNormalization\n",
    "from tensorflow.keras.optimizers import Adam\n",
    "from tensorflow.keras.utils import to_categorical"
   ]
  },
  {
   "cell_type": "code",
   "execution_count": null,
   "metadata": {},
   "outputs": [],
   "source": [
    "# set path variables\n",
    "path_data = 'data'\n",
    "path_submission = 'submissions'"
   ]
  },
  {
   "cell_type": "code",
   "execution_count": null,
   "metadata": {
    "colab": {},
    "colab_type": "code",
    "id": "1wxrE4Y1hea7"
   },
   "outputs": [],
   "source": [
    "### helper functions\n",
    "def process_images(X, augment=False):\n",
    "\n",
    "    # normalize image data\n",
    "    X = X / 255\n",
    "\n",
    "    # reshape into (n_samples, width, height, 1)\n",
    "    X = X.reshape(X.shape + (1,))\n",
    "\n",
    "    if augment:\n",
    "        # vertical reflection to augment data set\n",
    "        X_vertical = np.flip(X,2)\n",
    "        X = np.concatenate((X, X_vertical), 0)\n",
    "    return X\n",
    "\n",
    "def process_labels(y, augment=False):\n",
    "    \n",
    "    # drop 'ID' column\n",
    "    if augment:\n",
    "        return  np.concatenate((y[:,1], y[:,1]), 0) \n",
    "\n",
    "    else:\n",
    "        return y[:,1]\n",
    "\n",
    "def predict(X, model):\n",
    "    y = model.predict(X)\n",
    "    return np.argmax(y, axis=1)\n",
    "\n",
    "def categorical_to_label(y):\n",
    "    return np.argmax(y, axis=1)\n",
    "\n",
    "def get_acc(X, y, model):\n",
    "    preds = predict(X, model)\n",
    "    # acc = np.mean(preds==categorical_to_label(y))\n",
    "    acc = np.mean(preds==y)\n",
    "    return acc"
   ]
  },
  {
   "cell_type": "code",
   "execution_count": null,
   "metadata": {
    "colab": {},
    "colab_type": "code",
    "id": "zd6M1IwFUVxf"
   },
   "outputs": [],
   "source": [
    "def get_model_1():\n",
    "    \"\"\"model architecture based on Kaggle kernel https://www.kaggle.com/bugraokcu/cnn-with-keras\"\"\"\n",
    "\n",
    "    model = Sequential([\n",
    "        Conv2D(filters=32, kernel_size=3, activation='relu', kernel_initializer='he_normal', input_shape=im_shape),\n",
    "        MaxPooling2D(2,2),\n",
    "        Dropout(0.25),\n",
    "        Conv2D(filters=64, kernel_size=3, activation='relu'),\n",
    "        MaxPooling2D(2,2),\n",
    "        Dropout(0.25),\n",
    "        Conv2D(filters=128, kernel_size=3, activation='relu'),\n",
    "        Dropout(0.4),\n",
    "        Flatten(),\n",
    "        Dense(128, activation='relu'),\n",
    "        Dropout(0.3),\n",
    "        Dense(10, activation='softmax')\n",
    "    ])\n",
    "\n",
    "    model.compile(optimizer=Adam(),\n",
    "                  loss='sparse_categorical_crossentropy',\n",
    "                  metrics=['accuracy'])\n",
    "  \n",
    "    return model"
   ]
  },
  {
   "cell_type": "code",
   "execution_count": null,
   "metadata": {
    "colab": {},
    "colab_type": "code",
    "id": "NbSoVr2NiLI_"
   },
   "outputs": [],
   "source": [
    "def get_model_2():\n",
    "    \"\"\"madel architecture based on Kaggle kernel https://www.kaggle.com/fuzzywizard/fashion-mnist-cnn-keras-accuracy-93\"\"\"\n",
    "\n",
    "    model = Sequential([\n",
    "        Conv2D(filters=32, kernel_size=3, activation='relu', kernel_initializer='he_normal', input_shape=im_shape),\n",
    "        BatchNormalization(),\n",
    "        Conv2D(filters=32, kernel_size=3, activation='relu'),\n",
    "        BatchNormalization(),\n",
    "        Dropout(0.25),\n",
    "        Conv2D(filters=64, kernel_size=3, activation='relu'),\n",
    "        MaxPooling2D(2,2),\n",
    "        Dropout(0.25),\n",
    "        Conv2D(filters=128, kernel_size=3, activation='relu'),\n",
    "        BatchNormalization(),\n",
    "        Dropout(0.25),\n",
    "        Flatten(),\n",
    "        Dense(512, activation='relu'),\n",
    "        BatchNormalization(),\n",
    "        Dropout(0.5),\n",
    "        Dense(128, activation='relu'),\n",
    "        BatchNormalization(),\n",
    "        Dropout(0.5),\n",
    "        Dense(10, activation='softmax')\n",
    "    ])\n",
    "\n",
    "    model.compile(optimizer=Adam(),\n",
    "                  loss='sparse_categorical_crossentropy',\n",
    "                  metrics=['accuracy'])\n",
    "  \n",
    "    return model"
   ]
  },
  {
   "cell_type": "code",
   "execution_count": null,
   "metadata": {
    "colab": {},
    "colab_type": "code",
    "id": "6PS9sDJT5Yn1"
   },
   "outputs": [],
   "source": [
    "def get_model_3():\n",
    "    \"\"\"modified model 2\"\"\"\n",
    "\n",
    "    model = Sequential([\n",
    "        Conv2D(filters=32, kernel_size=3, activation='relu', kernel_initializer='he_normal', input_shape=im_shape),\n",
    "        BatchNormalization(),\n",
    "        Conv2D(filters=32, kernel_size=3, activation='relu'),\n",
    "        BatchNormalization(),\n",
    "        MaxPooling2D(2,2),\n",
    "        Dropout(0.25),\n",
    "        Conv2D(filters=64, kernel_size=3, activation='relu'),\n",
    "        MaxPooling2D(2,2),\n",
    "        Dropout(0.25),\n",
    "        Conv2D(filters=128, kernel_size=3, activation='relu'),\n",
    "        BatchNormalization(),\n",
    "        MaxPooling2D(2,2),\n",
    "        Dropout(0.25),\n",
    "        Flatten(),\n",
    "        Dense(512, activation='relu'),\n",
    "        BatchNormalization(),\n",
    "        Dropout(0.5),\n",
    "        Dense(128, activation='relu'),\n",
    "        BatchNormalization(),\n",
    "        Dropout(0.5),\n",
    "        Dense(10, activation='softmax')\n",
    "    ])\n",
    "\n",
    "    model.compile(optimizer=Adam(),\n",
    "                  loss='sparse_categorical_crossentropy',\n",
    "                  metrics=['accuracy'])\n",
    "  \n",
    "    return model"
   ]
  },
  {
   "cell_type": "code",
   "execution_count": null,
   "metadata": {
    "colab": {},
    "colab_type": "code",
    "id": "dhq5uWjcbTAA"
   },
   "outputs": [],
   "source": [
    "### code for k-fold cross-validation (not used)\n",
    "\n",
    "# epochs = 25\n",
    "# batch_size = 256\n",
    "# n_splits=10\n",
    "\n",
    "# # load images and labels\n",
    "# X = np.load('train_images.npy')\n",
    "# y = np.loadtxt('train_labels.csv', delimiter=',', skiprows=1)\n",
    "\n",
    "# # process data\n",
    "# X = process_images(X)\n",
    "# y = process_labels(y)\n",
    "\n",
    "# # get image shape\n",
    "# im_shape = X.shape[1:]\n",
    "\n",
    "# kfold = StratifiedKFold(n_splits=n_splits, shuffle=True, random_state=3791)\n",
    "\n",
    "# acc = []\n",
    "# val_acc = []\n",
    "\n",
    "# for train, val in kfold.split(X, y):\n",
    "\n",
    "#   model = get_model()\n",
    "#   model.fit(X[train], y[train], epochs=epochs, batch_size=batch_size, validation_data=(X[val], y[val]))\n",
    "\n",
    "#   acc.append(get_acc(X[train], y[train], model))\n",
    "#   val_acc.append(get_acc(X[val], y[val], model))\n",
    "\n",
    "# print('Mean training accuracy:', np.mean(acc))\n",
    "# print('Mean validation accuracy:', np.mean(val_acc))"
   ]
  },
  {
   "cell_type": "code",
   "execution_count": null,
   "metadata": {
    "colab": {
     "base_uri": "https://localhost:8080/",
     "height": 782
    },
    "colab_type": "code",
    "id": "AEGY5U6eW4yR",
    "outputId": "17091a63-5a3d-4dea-e8c6-af31bc54e26f",
    "scrolled": true
   },
   "outputs": [],
   "source": [
    "### train model\n",
    "\n",
    "models = {1:get_model_1, 2:get_model_2, 3:get_model_3}\n",
    "\n",
    "# hyperparameters for final model\n",
    "model_id = 2\n",
    "augment = True\n",
    "epochs = 25\n",
    "batch_size = 32\n",
    "\n",
    "# load images and labels\n",
    "X_train = np.load(os.path.join(path_data, 'train_images.npy'))\n",
    "y_train = np.loadtxt(os.path.join(path_data, 'train_labels.csv'), delimiter=',', skiprows=1)\n",
    "\n",
    "# process data\n",
    "X_train = process_images(X_train, augment=augment)\n",
    "y_train = process_labels(y_train, augment=augment)\n",
    "\n",
    "# get image shape\n",
    "im_shape = X_train.shape[1:]\n",
    "\n",
    "# train-validation split\n",
    "X_train, X_val, y_train, y_val = train_test_split(X_train, y_train, test_size=0.1, random_state=3791)\n",
    "\n",
    "# model = get_model_1()\n",
    "model = models[model_id]()\n",
    "history = model.fit(X_train, y_train, epochs=epochs, batch_size=batch_size, validation_data=(X_val,y_val))\n",
    "print('Training accuracy:', get_acc(X_train, y_train, model))\n",
    "print('Validation accuracy:', get_acc(X_val, y_val, model))"
   ]
  },
  {
   "cell_type": "code",
   "execution_count": null,
   "metadata": {
    "colab": {},
    "colab_type": "code",
    "id": "A7JTJZkmhIjM"
   },
   "outputs": [],
   "source": [
    "### create submission.csv file\n",
    "\n",
    "# test model\n",
    "X_test = np.load(os.path.join(path_data, 'test_images.npy')).squeeze()\n",
    "y_test = predict(process_images(X_test), model)\n",
    "\n",
    "# save predictions\n",
    "# df_test = pd.read_csv(os.path.join(path_submission, 'sample_submission.csv'))\n",
    "# df_test['label'] = y_test\n",
    "# df_test.to_csv(os.path.join(path_submission, 'submission.csv'), index=False)"
   ]
  }
 ],
 "metadata": {
  "accelerator": "GPU",
  "colab": {
   "collapsed_sections": [],
   "name": "model.ipynb",
   "provenance": []
  },
  "kernelspec": {
   "display_name": "Python 3",
   "language": "python",
   "name": "python3"
  },
  "language_info": {
   "codemirror_mode": {
    "name": "ipython",
    "version": 3
   },
   "file_extension": ".py",
   "mimetype": "text/x-python",
   "name": "python",
   "nbconvert_exporter": "python",
   "pygments_lexer": "ipython3",
   "version": "3.7.3"
  }
 },
 "nbformat": 4,
 "nbformat_minor": 1
}
